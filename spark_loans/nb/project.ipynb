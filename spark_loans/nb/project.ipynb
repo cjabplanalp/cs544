{
 "cells": [
  {
   "cell_type": "markdown",
   "id": "397ae255-72b9-4ec6-b1c9-88af5986ac54",
   "metadata": {
    "tags": []
   },
   "source": [
    "# Part 1: Data Setup"
   ]
  },
  {
   "cell_type": "code",
   "execution_count": 2,
   "id": "cefaf29f-d702-4a74-8dbc-c21343baef1e",
   "metadata": {},
   "outputs": [
    {
     "name": "stderr",
     "output_type": "stream",
     "text": [
      "Using Spark's default log4j profile: org/apache/spark/log4j-defaults.properties\n",
      "Setting default log level to \"WARN\".\n",
      "To adjust logging level use sc.setLogLevel(newLevel). For SparkR, use setLogLevel(newLevel).\n",
      "23/04/03 02:12:12 WARN NativeCodeLoader: Unable to load native-hadoop library for your platform... using builtin-java classes where applicable\n"
     ]
    }
   ],
   "source": [
    "from pyspark.sql import SparkSession\n",
    "spark = (SparkSession.builder.appName(\"cs544\")\n",
    "         .master(\"spark://main:7077\")\n",
    "         .config(\"spark.executor.memory\", \"512M\")\n",
    "         .config(\"spark.sql.warehouse.dir\", \"hdfs://main:9000/user/hive/warehouse\")\n",
    "         .enableHiveSupport()\n",
    "         .getOrCreate())"
   ]
  },
  {
   "cell_type": "code",
   "execution_count": 3,
   "id": "ab6d2ac5-e934-4acc-a242-938c5fded044",
   "metadata": {},
   "outputs": [
    {
     "name": "stdout",
     "output_type": "stream",
     "text": [
      "--2023-04-03 02:12:24--  https://pages.cs.wisc.edu/~harter/cs639/data/hdma-wi-2021.zip\n",
      "Resolving pages.cs.wisc.edu (pages.cs.wisc.edu)... 128.105.7.9\n",
      "Connecting to pages.cs.wisc.edu (pages.cs.wisc.edu)|128.105.7.9|:443... connected.\n",
      "HTTP request sent, awaiting response... 200 OK\n",
      "Length: 21494278 (20M) [application/zip]\n",
      "Saving to: ‘hdma-wi-2021.zip’\n",
      "\n",
      "hdma-wi-2021.zip    100%[===================>]  20.50M  48.9MB/s    in 0.4s    \n",
      "\n",
      "2023-04-03 02:12:25 (48.9 MB/s) - ‘hdma-wi-2021.zip’ saved [21494278/21494278]\n",
      "\n",
      "--2023-04-03 02:12:25--  https://pages.cs.wisc.edu/~harter/cs639/data/arid2017_to_lei_xref_csv.zip\n",
      "Resolving pages.cs.wisc.edu (pages.cs.wisc.edu)... 128.105.7.9\n",
      "Connecting to pages.cs.wisc.edu (pages.cs.wisc.edu)|128.105.7.9|:443... connected.\n",
      "HTTP request sent, awaiting response... 200 OK\n",
      "Length: 144804 (141K) [application/zip]\n",
      "Saving to: ‘arid2017_to_lei_xref_csv.zip’\n",
      "\n",
      "arid2017_to_lei_xre 100%[===================>] 141.41K  --.-KB/s    in 0.07s   \n",
      "\n",
      "2023-04-03 02:12:25 (1.88 MB/s) - ‘arid2017_to_lei_xref_csv.zip’ saved [144804/144804]\n",
      "\n",
      "--2023-04-03 02:12:25--  https://pages.cs.wisc.edu/~harter/cs639/data/code_sheets.zip\n",
      "Resolving pages.cs.wisc.edu (pages.cs.wisc.edu)... 128.105.7.9\n",
      "Connecting to pages.cs.wisc.edu (pages.cs.wisc.edu)|128.105.7.9|:443... connected.\n",
      "HTTP request sent, awaiting response... 200 OK\n",
      "Length: 798030 (779K) [application/zip]\n",
      "Saving to: ‘code_sheets.zip’\n",
      "\n",
      "code_sheets.zip     100%[===================>] 779.33K  --.-KB/s    in 0.1s    \n",
      "\n",
      "2023-04-03 02:12:26 (6.01 MB/s) - ‘code_sheets.zip’ saved [798030/798030]\n",
      "\n"
     ]
    }
   ],
   "source": [
    "! wget https://pages.cs.wisc.edu/~harter/cs639/data/hdma-wi-2021.zip\n",
    "! wget https://pages.cs.wisc.edu/~harter/cs639/data/arid2017_to_lei_xref_csv.zip\n",
    "! wget https://pages.cs.wisc.edu/~harter/cs639/data/code_sheets.zip"
   ]
  },
  {
   "cell_type": "code",
   "execution_count": 4,
   "id": "93f1b06d-2840-47cd-9804-5f7260a47e4a",
   "metadata": {},
   "outputs": [
    {
     "name": "stdout",
     "output_type": "stream",
     "text": [
      "extracting arid2017_to_lei_xref_csv.csv\n",
      "removing arid2017_to_lei_xref_csv.zip\n",
      "done\n",
      "extracting hdma-wi-2021.csv\n",
      "removing hdma-wi-2021.zip\n",
      "done\n",
      "extracting action_taken.csv\n",
      "extracting agency.csv\n",
      "extracting counties.csv\n",
      "extracting denial_reason.csv\n",
      "extracting edit_status.csv\n",
      "extracting ethnicity.csv\n",
      "extracting hoepa.csv\n",
      "extracting lien_status.csv\n",
      "extracting loan_purpose.csv\n",
      "extracting loan_type.csv\n",
      "extracting msamd.csv\n",
      "extracting owner_occupancy.csv\n",
      "extracting preapproval.csv\n",
      "extracting property_type.csv\n",
      "extracting purchaser_type.csv\n",
      "extracting race.csv\n",
      "extracting sex.csv\n",
      "extracting states.csv\n",
      "extracting tracts.csv\n",
      "removing code_sheets.zip\n",
      "done\n"
     ]
    }
   ],
   "source": [
    "import zipfile, os\n",
    "\n",
    "zip_files = os.listdir()\n",
    "for file in zip_files:\n",
    "    if \".zip\" in file:\n",
    "        with zipfile.ZipFile(file, 'r') as read_zip:\n",
    "            for file_name in read_zip.namelist():\n",
    "                read_zip.extract(file_name)\n",
    "                print(f\"extracting {file_name}\")\n",
    "                ! hdfs dfs -D dfs.replication=1 -cp {file_name} hdfs://main:9000/{file_name}\n",
    "                ! rm {file_name} # removes files within zip file\n",
    "            print(f\"removing {file}\")\n",
    "            ! rm {file} # removes zip file\n",
    "            print(\"done\")"
   ]
  },
  {
   "cell_type": "code",
   "execution_count": 5,
   "id": "e62c8566-7fc8-4619-893d-3cd05d740199",
   "metadata": {},
   "outputs": [],
   "source": [
    "# !hdfs dfs -ls hdfs://main:9000/"
   ]
  },
  {
   "cell_type": "code",
   "execution_count": 6,
   "id": "04fc0c43-4b1e-453e-a533-12e2e2aca85a",
   "metadata": {},
   "outputs": [
    {
     "name": "stderr",
     "output_type": "stream",
     "text": [
      "23/04/03 02:13:46 WARN HiveConf: HiveConf of name hive.stats.jdbc.timeout does not exist\n",
      "23/04/03 02:13:46 WARN HiveConf: HiveConf of name hive.stats.retries.wait does not exist\n",
      "23/04/03 02:13:51 WARN ObjectStore: Version information not found in metastore. hive.metastore.schema.verification is not enabled so recording the schema version 2.3.0\n",
      "23/04/03 02:13:51 WARN ObjectStore: setMetaStoreSchemaVersion called but recording version is disabled: version = 2.3.0, comment = Set by MetaStore UNKNOWN@172.18.0.4\n",
      "23/04/03 02:13:52 WARN ObjectStore: Failed to get database global_temp, returning NoSuchObjectException\n",
      "23/04/03 02:13:52 WARN HadoopFSUtils: The directory hdfs://main:9000/user/hive/warehouse/banks was not found. Was it deleted very recently?\n",
      "23/04/03 02:13:53 WARN FileUtils: File does not exist: hdfs://main:9000/user/hive/warehouse/banks; Force to delete it.\n",
      "23/04/03 02:13:53 ERROR FileUtils: Failed to delete hdfs://main:9000/user/hive/warehouse/banks\n",
      "23/04/03 02:14:00 WARN SessionState: METASTORE_FILTER_HOOK will be ignored, since hive.security.authorization.manager is set to instance of HiveAuthorizerFactory.\n",
      "23/04/03 02:14:00 WARN HiveConf: HiveConf of name hive.internal.ss.authz.settings.applied.marker does not exist\n",
      "23/04/03 02:14:00 WARN HiveConf: HiveConf of name hive.stats.jdbc.timeout does not exist\n",
      "23/04/03 02:14:00 WARN HiveConf: HiveConf of name hive.stats.retries.wait does not exist\n"
     ]
    }
   ],
   "source": [
    "banks_df = (spark.read.format(\"csv\")\n",
    "         .option(\"header\", True)\n",
    "         .option(\"inferSchema\", True)\n",
    "         .load(\"hdfs://main:9000/arid2017_to_lei_xref_csv.csv\")\n",
    "         .write.saveAsTable(\"banks\", mode = \"overwrite\"))"
   ]
  },
  {
   "cell_type": "code",
   "execution_count": 7,
   "id": "8c1e13ef-4c96-4db4-ab5b-e634fa5e6bfe",
   "metadata": {},
   "outputs": [
    {
     "name": "stderr",
     "output_type": "stream",
     "text": [
      "23/04/03 02:14:13 WARN HadoopFSUtils: The directory hdfs://main:9000/user/hive/warehouse/loans was not found. Was it deleted very recently?\n",
      "23/04/03 02:14:14 WARN FileUtils: File does not exist: hdfs://main:9000/user/hive/warehouse/loans; Force to delete it.\n",
      "23/04/03 02:14:14 ERROR FileUtils: Failed to delete hdfs://main:9000/user/hive/warehouse/loans\n",
      "23/04/03 02:14:14 WARN package: Truncated the string representation of a plan since it was too large. This behavior can be adjusted by setting 'spark.sql.debug.maxToStringFields'.\n",
      "                                                                                \r"
     ]
    }
   ],
   "source": [
    "loans_df = (spark.read.format(\"csv\")\n",
    "            .option(\"header\", True)\n",
    "            .option(\"inferSchema\", True)\n",
    "            .load(\"hdfs://main:9000/hdma-wi-2021.csv\")\n",
    "            .write.bucketBy(8, \"county_code\").saveAsTable(\"loans\", mode = \"overwrite\"))"
   ]
  },
  {
   "cell_type": "code",
   "execution_count": 8,
   "id": "cdda7882-8cb2-48d9-893a-0f74d9c6a022",
   "metadata": {},
   "outputs": [
    {
     "name": "stderr",
     "output_type": "stream",
     "text": [
      "                                                                                \r"
     ]
    }
   ],
   "source": [
    "code_sheets = [\"ethnicity\", \"race\", \"sex\", \"states\", \"counties\", \"tracts\", \"action_taken\", \"denial_reason\", \"loan_type\", \"loan_purpose\", \"preapproval\", \"property_type\"]\n",
    "\n",
    "for code in code_sheets:\n",
    "    df = (spark.read.format(\"csv\")\n",
    "          .option(\"header\", True)\n",
    "          .option(\"inferSchema\", True)\n",
    "          .load(f\"hdfs://main:9000/{code}.csv\")\n",
    "          .createOrReplaceTempView(code))"
   ]
  },
  {
   "cell_type": "markdown",
   "id": "a8608868-4d99-4c3d-81c3-33c9c0da3bba",
   "metadata": {
    "tags": []
   },
   "source": [
    "# Part 2: Filter and Join"
   ]
  },
  {
   "cell_type": "code",
   "execution_count": 9,
   "id": "3858cb40-499f-4065-87a8-14ebfca9dfe7",
   "metadata": {},
   "outputs": [
    {
     "name": "stdout",
     "output_type": "stream",
     "text": [
      "+---------+-------------+-----------+\n",
      "|namespace|    tableName|isTemporary|\n",
      "+---------+-------------+-----------+\n",
      "|  default|        banks|      false|\n",
      "|  default|        loans|      false|\n",
      "|         | action_taken|       true|\n",
      "|         |     counties|       true|\n",
      "|         |denial_reason|       true|\n",
      "|         |    ethnicity|       true|\n",
      "|         | loan_purpose|       true|\n",
      "|         |    loan_type|       true|\n",
      "|         |  preapproval|       true|\n",
      "|         |property_type|       true|\n",
      "|         |         race|       true|\n",
      "|         |          sex|       true|\n",
      "|         |       states|       true|\n",
      "|         |       tracts|       true|\n",
      "+---------+-------------+-----------+\n",
      "\n"
     ]
    }
   ],
   "source": [
    "# Q1: what tables are in our warehouse?\n",
    "spark.sql(\"SHOW TABLES\").show()"
   ]
  },
  {
   "cell_type": "code",
   "execution_count": 10,
   "id": "c4a240cf-2c63-4793-be38-06f81aed850b",
   "metadata": {},
   "outputs": [
    {
     "name": "stderr",
     "output_type": "stream",
     "text": [
      "                                                                                \r"
     ]
    },
    {
     "name": "stdout",
     "output_type": "stream",
     "text": [
      "Num. of banks that contain the word \"first\": 525\n",
      "Banks that contan the word \"second\": ['Old Second National Bank']\n"
     ]
    }
   ],
   "source": [
    "# Q2: how many banks contain the word \"first\" in their name? Which ones contain \"second\"?\n",
    "first_count = spark.sql(\"\"\"\n",
    "SELECT respondent_name\n",
    "FROM banks\n",
    "WHERE LOWER(respondent_name) LIKE '%first%'\n",
    "\"\"\").count()\n",
    "\n",
    "second_banks = list(spark.sql(\"\"\"\n",
    "SELECT respondent_name\n",
    "FROM banks\n",
    "WHERE LOWER(respondent_name) LIKE '%second%'\n",
    "\"\"\").toPandas()[\"respondent_name\"])\n",
    "\n",
    "print(\"Num. of banks that contain the word \\\"first\\\":\", first_count) \n",
    "print(\"Banks that contan the word \\\"second\\\":\", second_banks)"
   ]
  },
  {
   "cell_type": "code",
   "execution_count": 11,
   "id": "eb9e0546-574b-43a5-a4e9-57944df23b92",
   "metadata": {},
   "outputs": [
    {
     "name": "stderr",
     "output_type": "stream",
     "text": [
      "[Stage 39:>                                                         (0 + 1) / 1]\r"
     ]
    },
    {
     "name": "stdout",
     "output_type": "stream",
     "text": [
      "JPMorgan Chase Bank, National Association has received 8178 loans in this dataset.\n"
     ]
    },
    {
     "name": "stderr",
     "output_type": "stream",
     "text": [
      "                                                                                \r"
     ]
    }
   ],
   "source": [
    "# Q3: how many loan applications has your \"favorite\" bank received in the dataset?\n",
    "\n",
    "# for bank in set(banks.toPandas()[\"respondent_name\"]):\n",
    "#     if \"wells fargo\" in bank.lower():\n",
    "#         print(bank)\n",
    "\n",
    "# Favorite bank: JPMorgan Chase Bank, National Association\n",
    "fav_bank = \"JPMorgan Chase Bank, National Association\"\n",
    "\n",
    "banks = spark.table(\"banks\")\n",
    "loans = spark.table(\"loans\")\n",
    "banks_loans_joined = banks.join(loans, on=banks[\"lei_2020\"] == loans[\"lei\"], how = \"inner\")\n",
    "chase_loans = banks_loans_joined.where(banks_loans_joined[\"respondent_name\"] == fav_bank)\n",
    "print(f\"JPMorgan Chase Bank, National Association has received {chase_loans.count()} loans in this dataset.\")"
   ]
  },
  {
   "cell_type": "code",
   "execution_count": 12,
   "id": "e55cc87b-739b-418b-b96d-b39cc0951e33",
   "metadata": {},
   "outputs": [
    {
     "name": "stdout",
     "output_type": "stream",
     "text": [
      "== Physical Plan ==\n",
      "AdaptiveSparkPlan (7)\n",
      "+- BroadcastHashJoin Inner BuildLeft (6)\n",
      "   :- BroadcastExchange (3)\n",
      "   :  +- Filter (2)\n",
      "   :     +- Scan parquet default.banks (1)\n",
      "   +- Filter (5)\n",
      "      +- Scan parquet default.loans (4)\n",
      "\n",
      "\n",
      "(1) Scan parquet default.banks\n",
      "Output [5]: [respondent_name#947, arid_2017#948, lei_2018#949, lei_2019#950, lei_2020#951]\n",
      "Batched: true\n",
      "Location: InMemoryFileIndex [hdfs://main:9000/user/hive/warehouse/banks]\n",
      "PushedFilters: [IsNotNull(respondent_name), EqualTo(respondent_name,JPMorgan Chase Bank, National Association), IsNotNull(lei_2020)]\n",
      "ReadSchema: struct<respondent_name:string,arid_2017:string,lei_2018:string,lei_2019:string,lei_2020:string>\n",
      "\n",
      "(2) Filter\n",
      "Input [5]: [respondent_name#947, arid_2017#948, lei_2018#949, lei_2019#950, lei_2020#951]\n",
      "Condition : ((isnotnull(respondent_name#947) AND (respondent_name#947 = JPMorgan Chase Bank, National Association)) AND isnotnull(lei_2020#951))\n",
      "\n",
      "(3) BroadcastExchange\n",
      "Input [5]: [respondent_name#947, arid_2017#948, lei_2018#949, lei_2019#950, lei_2020#951]\n",
      "Arguments: HashedRelationBroadcastMode(List(input[4, string, false]),false), [plan_id=562]\n",
      "\n",
      "(4) Scan parquet default.loans\n",
      "Output [99]: [activity_year#965, lei#966, derived_msa-md#967, state_code#968, county_code#969, census_tract#970, conforming_loan_limit#971, derived_loan_product_type#972, derived_dwelling_category#973, derived_ethnicity#974, derived_race#975, derived_sex#976, action_taken#977, purchaser_type#978, preapproval#979, loan_type#980, loan_purpose#981, lien_status#982, reverse_mortgage#983, open-end_line_of_credit#984, business_or_commercial_purpose#985, loan_amount#986, loan_to_value_ratio#987, interest_rate#988, rate_spread#989, hoepa_status#990, total_loan_costs#991, total_points_and_fees#992, origination_charges#993, discount_points#994, lender_credits#995, loan_term#996, prepayment_penalty_term#997, intro_rate_period#998, negative_amortization#999, interest_only_payment#1000, balloon_payment#1001, other_nonamortizing_features#1002, property_value#1003, construction_method#1004, occupancy_type#1005, manufactured_home_secured_property_type#1006, manufactured_home_land_property_interest#1007, total_units#1008, multifamily_affordable_units#1009, income#1010, debt_to_income_ratio#1011, applicant_credit_score_type#1012, co-applicant_credit_score_type#1013, applicant_ethnicity-1#1014, applicant_ethnicity-2#1015, applicant_ethnicity-3#1016, applicant_ethnicity-4#1017, applicant_ethnicity-5#1018, co-applicant_ethnicity-1#1019, co-applicant_ethnicity-2#1020, co-applicant_ethnicity-3#1021, co-applicant_ethnicity-4#1022, co-applicant_ethnicity-5#1023, applicant_ethnicity_observed#1024, co-applicant_ethnicity_observed#1025, applicant_race-1#1026, applicant_race-2#1027, applicant_race-3#1028, applicant_race-4#1029, applicant_race-5#1030, co-applicant_race-1#1031, co-applicant_race-2#1032, co-applicant_race-3#1033, co-applicant_race-4#1034, co-applicant_race-5#1035, applicant_race_observed#1036, co-applicant_race_observed#1037, applicant_sex#1038, co-applicant_sex#1039, applicant_sex_observed#1040, co-applicant_sex_observed#1041, applicant_age#1042, co-applicant_age#1043, applicant_age_above_62#1044, co-applicant_age_above_62#1045, submission_of_application#1046, initially_payable_to_institution#1047, aus-1#1048, aus-2#1049, aus-3#1050, aus-4#1051, aus-5#1052, denial_reason-1#1053, denial_reason-2#1054, denial_reason-3#1055, denial_reason-4#1056, tract_population#1057, tract_minority_population_percent#1058, ffiec_msa_md_median_family_income#1059, tract_to_msa_income_percentage#1060, tract_owner_occupied_units#1061, tract_one_to_four_family_homes#1062, tract_median_age_of_housing_units#1063]\n",
      "Batched: true\n",
      "Location: InMemoryFileIndex [hdfs://main:9000/user/hive/warehouse/loans]\n",
      "PushedFilters: [IsNotNull(lei)]\n",
      "ReadSchema: struct<activity_year:int,lei:string,derived_msa-md:int,state_code:string,county_code:string,census_tract:string,conforming_loan_limit:string,derived_loan_product_type:string,derived_dwelling_category:string,derived_ethnicity:string,derived_race:string,derived_sex:string,action_taken:int,purchaser_type:int,preapproval:int,loan_type:int,loan_purpose:int,lien_status:int,reverse_mortgage:int,open-end_line_of_credit:int,business_or_commercial_purpose:int,loan_amount:double,loan_to_value_ratio:string,interest_rate:string,rate_spread:string,hoepa_status:int,total_loan_costs:string,total_points_and_fees:string,origination_charges:string,discount_points:string,lender_credits:string,loan_term:string,prepayment_penalty_term:string,intro_rate_period:string,negative_amortization:int,interest_only_payment:int,balloon_payment:int,other_nonamortizing_features:int,property_value:string,construction_method:int,occupancy_type:int,manufactured_home_secured_property_type:int,manufactured_home_land_property_interest:int,total_units:string,multifamily_affordable_units:string,income:string,debt_to_income_ratio:string,applicant_credit_score_type:int,co-applicant_credit_score_type:int,applicant_ethnicity-1:int,applicant_ethnicity-2:int,applicant_ethnicity-3:int,applicant_ethnicity-4:int,applicant_ethnicity-5:int,co-applicant_ethnicity-1:int,co-applicant_ethnicity-2:int,co-applicant_ethnicity-3:int,co-applicant_ethnicity-4:int,co-applicant_ethnicity-5:string,applicant_ethnicity_observed:int,co-applicant_ethnicity_observed:int,applicant_race-1:int,applicant_race-2:int,applicant_race-3:int,applicant_race-4:int,applicant_race-5:int,co-applicant_race-1:int,co-applicant_race-2:int,co-applicant_race-3:int,co-applicant_race-4:int,co-applicant_race-5:int,applicant_race_observed:int,co-applicant_race_observed:int,applicant_sex:int,co-applicant_sex:int,applicant_sex_observed:int,co-applicant_sex_observed:int,applicant_age:string,co-applicant_age:string,applicant_age_above_62:string,co-applicant_age_above_62:string,submission_of_application:int,initially_payable_to_institution:int,aus-1:int,aus-2:int,aus-3:int,aus-4:int,aus-5:int,denial_reason-1:int,denial_reason-2:int,denial_reason-3:int,denial_reason-4:int,tract_population:int,tract_minority_population_percent:double,ffiec_msa_md_median_family_income:int,tract_to_msa_income_percentage:int,tract_owner_occupied_units:int,tract_one_to_four_family_homes:int,tract_median_age_of_housing_units:int>\n",
      "\n",
      "(5) Filter\n",
      "Input [99]: [activity_year#965, lei#966, derived_msa-md#967, state_code#968, county_code#969, census_tract#970, conforming_loan_limit#971, derived_loan_product_type#972, derived_dwelling_category#973, derived_ethnicity#974, derived_race#975, derived_sex#976, action_taken#977, purchaser_type#978, preapproval#979, loan_type#980, loan_purpose#981, lien_status#982, reverse_mortgage#983, open-end_line_of_credit#984, business_or_commercial_purpose#985, loan_amount#986, loan_to_value_ratio#987, interest_rate#988, rate_spread#989, hoepa_status#990, total_loan_costs#991, total_points_and_fees#992, origination_charges#993, discount_points#994, lender_credits#995, loan_term#996, prepayment_penalty_term#997, intro_rate_period#998, negative_amortization#999, interest_only_payment#1000, balloon_payment#1001, other_nonamortizing_features#1002, property_value#1003, construction_method#1004, occupancy_type#1005, manufactured_home_secured_property_type#1006, manufactured_home_land_property_interest#1007, total_units#1008, multifamily_affordable_units#1009, income#1010, debt_to_income_ratio#1011, applicant_credit_score_type#1012, co-applicant_credit_score_type#1013, applicant_ethnicity-1#1014, applicant_ethnicity-2#1015, applicant_ethnicity-3#1016, applicant_ethnicity-4#1017, applicant_ethnicity-5#1018, co-applicant_ethnicity-1#1019, co-applicant_ethnicity-2#1020, co-applicant_ethnicity-3#1021, co-applicant_ethnicity-4#1022, co-applicant_ethnicity-5#1023, applicant_ethnicity_observed#1024, co-applicant_ethnicity_observed#1025, applicant_race-1#1026, applicant_race-2#1027, applicant_race-3#1028, applicant_race-4#1029, applicant_race-5#1030, co-applicant_race-1#1031, co-applicant_race-2#1032, co-applicant_race-3#1033, co-applicant_race-4#1034, co-applicant_race-5#1035, applicant_race_observed#1036, co-applicant_race_observed#1037, applicant_sex#1038, co-applicant_sex#1039, applicant_sex_observed#1040, co-applicant_sex_observed#1041, applicant_age#1042, co-applicant_age#1043, applicant_age_above_62#1044, co-applicant_age_above_62#1045, submission_of_application#1046, initially_payable_to_institution#1047, aus-1#1048, aus-2#1049, aus-3#1050, aus-4#1051, aus-5#1052, denial_reason-1#1053, denial_reason-2#1054, denial_reason-3#1055, denial_reason-4#1056, tract_population#1057, tract_minority_population_percent#1058, ffiec_msa_md_median_family_income#1059, tract_to_msa_income_percentage#1060, tract_owner_occupied_units#1061, tract_one_to_four_family_homes#1062, tract_median_age_of_housing_units#1063]\n",
      "Condition : isnotnull(lei#966)\n",
      "\n",
      "(6) BroadcastHashJoin\n",
      "Left keys [1]: [lei_2020#951]\n",
      "Right keys [1]: [lei#966]\n",
      "Join condition: None\n",
      "\n",
      "(7) AdaptiveSparkPlan\n",
      "Output [104]: [respondent_name#947, arid_2017#948, lei_2018#949, lei_2019#950, lei_2020#951, activity_year#965, lei#966, derived_msa-md#967, state_code#968, county_code#969, census_tract#970, conforming_loan_limit#971, derived_loan_product_type#972, derived_dwelling_category#973, derived_ethnicity#974, derived_race#975, derived_sex#976, action_taken#977, purchaser_type#978, preapproval#979, loan_type#980, loan_purpose#981, lien_status#982, reverse_mortgage#983, open-end_line_of_credit#984, business_or_commercial_purpose#985, loan_amount#986, loan_to_value_ratio#987, interest_rate#988, rate_spread#989, hoepa_status#990, total_loan_costs#991, total_points_and_fees#992, origination_charges#993, discount_points#994, lender_credits#995, loan_term#996, prepayment_penalty_term#997, intro_rate_period#998, negative_amortization#999, interest_only_payment#1000, balloon_payment#1001, other_nonamortizing_features#1002, property_value#1003, construction_method#1004, occupancy_type#1005, manufactured_home_secured_property_type#1006, manufactured_home_land_property_interest#1007, total_units#1008, multifamily_affordable_units#1009, income#1010, debt_to_income_ratio#1011, applicant_credit_score_type#1012, co-applicant_credit_score_type#1013, applicant_ethnicity-1#1014, applicant_ethnicity-2#1015, applicant_ethnicity-3#1016, applicant_ethnicity-4#1017, applicant_ethnicity-5#1018, co-applicant_ethnicity-1#1019, co-applicant_ethnicity-2#1020, co-applicant_ethnicity-3#1021, co-applicant_ethnicity-4#1022, co-applicant_ethnicity-5#1023, applicant_ethnicity_observed#1024, co-applicant_ethnicity_observed#1025, applicant_race-1#1026, applicant_race-2#1027, applicant_race-3#1028, applicant_race-4#1029, applicant_race-5#1030, co-applicant_race-1#1031, co-applicant_race-2#1032, co-applicant_race-3#1033, co-applicant_race-4#1034, co-applicant_race-5#1035, applicant_race_observed#1036, co-applicant_race_observed#1037, applicant_sex#1038, co-applicant_sex#1039, applicant_sex_observed#1040, co-applicant_sex_observed#1041, applicant_age#1042, co-applicant_age#1043, applicant_age_above_62#1044, co-applicant_age_above_62#1045, submission_of_application#1046, initially_payable_to_institution#1047, aus-1#1048, aus-2#1049, aus-3#1050, aus-4#1051, aus-5#1052, denial_reason-1#1053, denial_reason-2#1054, denial_reason-3#1055, denial_reason-4#1056, tract_population#1057, tract_minority_population_percent#1058, ffiec_msa_md_median_family_income#1059, tract_to_msa_income_percentage#1060, tract_owner_occupied_units#1061, tract_one_to_four_family_homes#1062, tract_median_age_of_housing_units#1063]\n",
      "Arguments: isFinalPlan=false\n",
      "\n",
      "\n"
     ]
    }
   ],
   "source": [
    "# Q4: what does results.explain(\"formatted\") tell us about Spark's query plan for Q3?\n",
    "chase_loans.explain(\"formatted\")\n",
    "\n",
    "# 1. which table is sent to every executor via a BroadcastExchange operation?\n",
    "# ANSWER: banks, because following \"BroadcastExchange (3)\" in the Physical Plan leads to (3) BroadcastExchange,\n",
    "# where the inputs are all of the banks table columns.\n",
    "\n",
    "# 2. on which tables is \"is not null\" filtering added by the optimizer?\n",
    "# ANSWER: banks and loans (both tables being joined)\n",
    "\n",
    "# 3. does the plan involve HashAggregates (depending on how you write the query, it may or may not)? If so, which ones?\n",
    "# ANSWER: no it does not"
   ]
  },
  {
   "cell_type": "code",
   "execution_count": 13,
   "id": "f900a776-115c-427e-8be1-61d25d727191",
   "metadata": {},
   "outputs": [
    {
     "name": "stderr",
     "output_type": "stream",
     "text": [
      "                                                                                \r"
     ]
    },
    {
     "data": {
      "text/html": [
       "<div>\n",
       "<style scoped>\n",
       "    .dataframe tbody tr th:only-of-type {\n",
       "        vertical-align: middle;\n",
       "    }\n",
       "\n",
       "    .dataframe tbody tr th {\n",
       "        vertical-align: top;\n",
       "    }\n",
       "\n",
       "    .dataframe thead th {\n",
       "        text-align: right;\n",
       "    }\n",
       "</style>\n",
       "<table border=\"1\" class=\"dataframe\">\n",
       "  <thead>\n",
       "    <tr style=\"text-align: right;\">\n",
       "      <th></th>\n",
       "      <th>census_tract</th>\n",
       "      <th>county</th>\n",
       "      <th>loan_purpose</th>\n",
       "      <th>derived_dwelling_category</th>\n",
       "      <th>thousands</th>\n",
       "      <th>interest_rate</th>\n",
       "      <th>years</th>\n",
       "      <th>action_taken</th>\n",
       "    </tr>\n",
       "  </thead>\n",
       "  <tbody>\n",
       "    <tr>\n",
       "      <th>0</th>\n",
       "      <td>55133203500</td>\n",
       "      <td>Waukesha</td>\n",
       "      <td>None</td>\n",
       "      <td>Single Family (1-4 Units):Site-Built</td>\n",
       "      <td>12915.0</td>\n",
       "      <td>2.75</td>\n",
       "      <td>30.0</td>\n",
       "      <td>Loan originated</td>\n",
       "    </tr>\n",
       "    <tr>\n",
       "      <th>1</th>\n",
       "      <td>55059000100</td>\n",
       "      <td>Kenosha</td>\n",
       "      <td>None</td>\n",
       "      <td>Multifamily:Site-Built</td>\n",
       "      <td>4975.0</td>\n",
       "      <td>3.38</td>\n",
       "      <td>30.0</td>\n",
       "      <td>Loan originated</td>\n",
       "    </tr>\n",
       "    <tr>\n",
       "      <th>2</th>\n",
       "      <td>55079012800</td>\n",
       "      <td>Milwaukee</td>\n",
       "      <td>None</td>\n",
       "      <td>Multifamily:Site-Built</td>\n",
       "      <td>4605.0</td>\n",
       "      <td>3.36</td>\n",
       "      <td>30.0</td>\n",
       "      <td>Loan originated</td>\n",
       "    </tr>\n",
       "    <tr>\n",
       "      <th>3</th>\n",
       "      <td>55127001602</td>\n",
       "      <td>Walworth</td>\n",
       "      <td>None</td>\n",
       "      <td>Single Family (1-4 Units):Site-Built</td>\n",
       "      <td>4555.0</td>\n",
       "      <td>2.75</td>\n",
       "      <td>30.0</td>\n",
       "      <td>Loan originated</td>\n",
       "    </tr>\n",
       "    <tr>\n",
       "      <th>4</th>\n",
       "      <td>55079185400</td>\n",
       "      <td>Milwaukee</td>\n",
       "      <td>None</td>\n",
       "      <td>Multifamily:Site-Built</td>\n",
       "      <td>3625.0</td>\n",
       "      <td>4.94</td>\n",
       "      <td>20.5</td>\n",
       "      <td>Loan originated</td>\n",
       "    </tr>\n",
       "    <tr>\n",
       "      <th>5</th>\n",
       "      <td>55127001602</td>\n",
       "      <td>Walworth</td>\n",
       "      <td>Home purchase</td>\n",
       "      <td>Single Family (1-4 Units):Site-Built</td>\n",
       "      <td>3535.0</td>\n",
       "      <td>2.875</td>\n",
       "      <td>30.0</td>\n",
       "      <td>Loan originated</td>\n",
       "    </tr>\n",
       "    <tr>\n",
       "      <th>6</th>\n",
       "      <td>55133204100</td>\n",
       "      <td>Waukesha</td>\n",
       "      <td>None</td>\n",
       "      <td>Single Family (1-4 Units):Site-Built</td>\n",
       "      <td>3305.0</td>\n",
       "      <td>2.625</td>\n",
       "      <td>30.0</td>\n",
       "      <td>Loan originated</td>\n",
       "    </tr>\n",
       "    <tr>\n",
       "      <th>7</th>\n",
       "      <td>55079019400</td>\n",
       "      <td>Milwaukee</td>\n",
       "      <td>None</td>\n",
       "      <td>Multifamily:Site-Built</td>\n",
       "      <td>3105.0</td>\n",
       "      <td>3.48</td>\n",
       "      <td>25.0</td>\n",
       "      <td>Loan originated</td>\n",
       "    </tr>\n",
       "    <tr>\n",
       "      <th>8</th>\n",
       "      <td>55127001602</td>\n",
       "      <td>Walworth</td>\n",
       "      <td>None</td>\n",
       "      <td>Single Family (1-4 Units):Site-Built</td>\n",
       "      <td>3005.0</td>\n",
       "      <td>3.125</td>\n",
       "      <td>30.0</td>\n",
       "      <td>Loan originated</td>\n",
       "    </tr>\n",
       "    <tr>\n",
       "      <th>9</th>\n",
       "      <td>55133203500</td>\n",
       "      <td>Waukesha</td>\n",
       "      <td>Home purchase</td>\n",
       "      <td>Single Family (1-4 Units):Site-Built</td>\n",
       "      <td>3005.0</td>\n",
       "      <td>2.25</td>\n",
       "      <td>30.0</td>\n",
       "      <td>Loan originated</td>\n",
       "    </tr>\n",
       "  </tbody>\n",
       "</table>\n",
       "</div>"
      ],
      "text/plain": [
       "  census_tract     county   loan_purpose  \\\n",
       "0  55133203500   Waukesha           None   \n",
       "1  55059000100    Kenosha           None   \n",
       "2  55079012800  Milwaukee           None   \n",
       "3  55127001602   Walworth           None   \n",
       "4  55079185400  Milwaukee           None   \n",
       "5  55127001602   Walworth  Home purchase   \n",
       "6  55133204100   Waukesha           None   \n",
       "7  55079019400  Milwaukee           None   \n",
       "8  55127001602   Walworth           None   \n",
       "9  55133203500   Waukesha  Home purchase   \n",
       "\n",
       "              derived_dwelling_category  thousands interest_rate  years  \\\n",
       "0  Single Family (1-4 Units):Site-Built    12915.0          2.75   30.0   \n",
       "1                Multifamily:Site-Built     4975.0          3.38   30.0   \n",
       "2                Multifamily:Site-Built     4605.0          3.36   30.0   \n",
       "3  Single Family (1-4 Units):Site-Built     4555.0          2.75   30.0   \n",
       "4                Multifamily:Site-Built     3625.0          4.94   20.5   \n",
       "5  Single Family (1-4 Units):Site-Built     3535.0         2.875   30.0   \n",
       "6  Single Family (1-4 Units):Site-Built     3305.0         2.625   30.0   \n",
       "7                Multifamily:Site-Built     3105.0          3.48   25.0   \n",
       "8  Single Family (1-4 Units):Site-Built     3005.0         3.125   30.0   \n",
       "9  Single Family (1-4 Units):Site-Built     3005.0          2.25   30.0   \n",
       "\n",
       "      action_taken  \n",
       "0  Loan originated  \n",
       "1  Loan originated  \n",
       "2  Loan originated  \n",
       "3  Loan originated  \n",
       "4  Loan originated  \n",
       "5  Loan originated  \n",
       "6  Loan originated  \n",
       "7  Loan originated  \n",
       "8  Loan originated  \n",
       "9  Loan originated  "
      ]
     },
     "execution_count": 13,
     "metadata": {},
     "output_type": "execute_result"
    }
   ],
   "source": [
    "# Q5: what are the top 10 biggest loans (in terms of loan_amount) that were approved by your favorite bank?\n",
    "from pyspark.sql.functions import lower, col, expr, asc, desc, count, mean, concat_ws, lpad, when\n",
    "\n",
    "chase_loans = (chase_loans\n",
    " .withColumn(\"thousands\", col(\"loan_amount\")/1000)\n",
    " .withColumn(\"years\", col(\"loan_term\")/12))\n",
    "\n",
    "counties = (spark.table(\"counties\")\n",
    "           .select(col(\"STATE\"), col(\"COUNTY\"), col(\"NAME\"))\n",
    "           .distinct()\n",
    "           .withColumn(\"code\", concat_ws(\"\", lpad(col(\"STATE\"), 2, \"0\"), lpad(col(\"COUNTY\"), 3, \"0\"))))\n",
    "\n",
    "joined_counties = chase_loans.join(counties, on=chase_loans[\"county_code\"] == counties[\"code\"], how = \"left\")\n",
    "joined_purpose = joined_counties.join(spark.table(\"loan_purpose\"), on = joined_counties[\"loan_purpose\"] == spark.table(\"loan_purpose\")[\"id\"], how = \"left\")\n",
    "joined_all = joined_purpose.join(spark.table(\"action_taken\"), on = joined_purpose[\"action_taken\"] == spark.table(\"action_taken\")[\"id\"], how = \"left\")\n",
    "                                                   \n",
    "top_10 = (joined_all\n",
    "          .select(col(\"census_tract\"), col(\"NAME\"), col(\"loan_purpose.loan_purpose\"), col(\"derived_dwelling_category\"), col(\"thousands\"), col(\"interest_rate\"), col(\"years\"), col(\"action_taken.action_taken\"))\n",
    "          .withColumnRenamed(\"NAME\", \"county\")\n",
    "          .filter(col(\"action_taken\") == \"Loan originated\")\n",
    "          .orderBy(col(\"thousands\").desc())).limit(10)\n",
    "                                 \n",
    "top_10.toPandas()"
   ]
  },
  {
   "cell_type": "markdown",
   "id": "ac419004-ad9c-4538-b7a3-e44bc56babd5",
   "metadata": {
    "tags": []
   },
   "source": [
    "# Part 3: GROUP BY and Windowing"
   ]
  },
  {
   "cell_type": "code",
   "execution_count": 14,
   "id": "6cbc85c8-411d-4736-819f-5638fe448d79",
   "metadata": {},
   "outputs": [
    {
     "name": "stdout",
     "output_type": "stream",
     "text": [
      "== Physical Plan ==\n",
      "AdaptiveSparkPlan (4)\n",
      "+- HashAggregate (3)\n",
      "   +- HashAggregate (2)\n",
      "      +- Scan parquet default.loans (1)\n",
      "\n",
      "\n",
      "(1) Scan parquet default.loans\n",
      "Output [2]: [county_code#969, loan_amount#986]\n",
      "Batched: true\n",
      "Location: InMemoryFileIndex [hdfs://main:9000/user/hive/warehouse/loans]\n",
      "ReadSchema: struct<county_code:string,loan_amount:double>\n",
      "SelectedBucketsCount: 8 out of 8\n",
      "\n",
      "(2) HashAggregate\n",
      "Input [2]: [county_code#969, loan_amount#986]\n",
      "Keys [1]: [county_code#969]\n",
      "Functions [1]: [partial_avg(loan_amount#986)]\n",
      "Aggregate Attributes [2]: [sum#2818, count#2819L]\n",
      "Results [3]: [county_code#969, sum#2820, count#2821L]\n",
      "\n",
      "(3) HashAggregate\n",
      "Input [3]: [county_code#969, sum#2820, count#2821L]\n",
      "Keys [1]: [county_code#969]\n",
      "Functions [1]: [avg(loan_amount#986)]\n",
      "Aggregate Attributes [1]: [avg(loan_amount#986)#2613]\n",
      "Results [2]: [county_code#969, avg(loan_amount#986)#2613 AS AVG(loan_amount)#2612]\n",
      "\n",
      "(4) AdaptiveSparkPlan\n",
      "Output [2]: [county_code#969, AVG(loan_amount)#2612]\n",
      "Arguments: isFinalPlan=false\n",
      "\n",
      "\n",
      "== Physical Plan ==\n",
      "AdaptiveSparkPlan (5)\n",
      "+- HashAggregate (4)\n",
      "   +- Exchange (3)\n",
      "      +- HashAggregate (2)\n",
      "         +- Scan parquet default.loans (1)\n",
      "\n",
      "\n",
      "(1) Scan parquet default.loans\n",
      "Output [2]: [lei#966, loan_amount#986]\n",
      "Batched: true\n",
      "Location: InMemoryFileIndex [hdfs://main:9000/user/hive/warehouse/loans]\n",
      "ReadSchema: struct<lei:string,loan_amount:double>\n",
      "\n",
      "(2) HashAggregate\n",
      "Input [2]: [lei#966, loan_amount#986]\n",
      "Keys [1]: [lei#966]\n",
      "Functions [1]: [partial_avg(loan_amount#986)]\n",
      "Aggregate Attributes [2]: [sum#2822, count#2823L]\n",
      "Results [3]: [lei#966, sum#2824, count#2825L]\n",
      "\n",
      "(3) Exchange\n",
      "Input [3]: [lei#966, sum#2824, count#2825L]\n",
      "Arguments: hashpartitioning(lei#966, 200), ENSURE_REQUIREMENTS, [plan_id=1166]\n",
      "\n",
      "(4) HashAggregate\n",
      "Input [3]: [lei#966, sum#2824, count#2825L]\n",
      "Keys [1]: [lei#966]\n",
      "Functions [1]: [avg(loan_amount#986)]\n",
      "Aggregate Attributes [1]: [avg(loan_amount#986)#2815]\n",
      "Results [2]: [lei#966, avg(loan_amount#986)#2815 AS AVG(loan_amount)#2814]\n",
      "\n",
      "(5) AdaptiveSparkPlan\n",
      "Output [2]: [lei#966, AVG(loan_amount)#2814]\n",
      "Arguments: isFinalPlan=false\n",
      "\n",
      "\n"
     ]
    }
   ],
   "source": [
    "# Q6: when computing a MEAN aggregate per group of loans, under what situation (when) do we require network I/O between the partial_mean and mean operations?\n",
    "\n",
    "county_group = spark.table(\"loans\").groupby(\"county_code\").agg(expr(\"AVG(loan_amount)\"))\n",
    "lei_group = spark.table(\"loans\").groupby(\"lei\").agg(expr(\"AVG(loan_amount)\"))\n",
    "\n",
    "county_group.explain(\"formatted\")\n",
    "lei_group.explain(\"formatted\")\n",
    "\n",
    "# we require network I/O between the partial_mean and mean operation for the groupby of the lei,\n",
    "# because county_code was bucketed when it was originally loaded in and lei was not. \n",
    "\n",
    "# This is because bucketing places all of the bucketed data on the same worker node, skipping the network\n",
    "# exchange when grouping.\n",
    "\n",
    "# \"(3) Exchange\" appears in the output of .explain() for the grouping of the lei groupby,\n",
    "# but not for the county_code groupby"
   ]
  },
  {
   "cell_type": "code",
   "execution_count": 15,
   "id": "b49d33ce-6520-41a2-ae12-69098593d4b8",
   "metadata": {},
   "outputs": [
    {
     "name": "stderr",
     "output_type": "stream",
     "text": [
      "                                                                                \r"
     ]
    },
    {
     "data": {
      "text/plain": [
       "<Axes: xlabel='NAME'>"
      ]
     },
     "execution_count": 15,
     "metadata": {},
     "output_type": "execute_result"
    },
    {
     "data": {
      "image/png": "[encoded data removed]",
      "text/plain": [
       "<Figure size 640x480 with 1 Axes>"
      ]
     },
     "metadata": {},
     "output_type": "display_data"
    }
   ],
   "source": [
    "# Q7: what are the average interest rates for Wells Fargo applications for the ten counties where Wells Fargo receives the most applications?\n",
    "wells_fargo = banks_loans_joined.where(banks_loans_joined[\"respondent_name\"] == \"Wells Fargo Bank, National Association\")\n",
    "wf_plus_counties = wells_fargo.join(counties, on = wells_fargo[\"county_code\"] == counties[\"code\"], how = \"left\")\n",
    "\n",
    "wf_avg_interest = (wf_plus_counties\n",
    "              .groupBy('NAME')\n",
    "              .agg(expr(\"AVG(interest_rate)\").alias('avg_interest_rate')))\n",
    "\n",
    "wf_top_10 = (wf_plus_counties\n",
    " .groupby(\"NAME\")\n",
    " .count()\n",
    " .orderBy(col(\"count\").desc()))\n",
    "\n",
    "wf_county_avg = (wf_top_10\n",
    "                 .join(wf_avg_interest, on = [\"NAME\"], how = \"inner\")\n",
    "                 .orderBy(col(\"count\").desc())\n",
    "                 .limit(10)\n",
    "                ).toPandas()\n",
    "plot_df = wf_county_avg.drop([\"count\"], axis = 1)\n",
    "plot_df.set_index(\"NAME\").plot.bar(legend=None)"
   ]
  },
  {
   "cell_type": "code",
   "execution_count": 16,
   "id": "539bb9a5-0e09-44ff-bc9d-900a96bbd35a",
   "metadata": {},
   "outputs": [
    {
     "name": "stderr",
     "output_type": "stream",
     "text": [
      "                                                                                \r"
     ]
    },
    {
     "data": {
      "text/plain": [
       "Text(0, 0.5, '2nd Biggest Loan Application (Millions $)')"
      ]
     },
     "execution_count": 16,
     "metadata": {},
     "output_type": "execute_result"
    },
    {
     "data": {
      "image/png": "[encoded data removed]",
      "text/plain": [
       "<Figure size 640x480 with 1 Axes>"
      ]
     },
     "metadata": {},
     "output_type": "display_data"
    }
   ],
   "source": [
    "# Q8: what is the second biggest loan application amount in each county? (answer for top 10 counties).\n",
    "from pyspark.sql.window import Window\n",
    "from pyspark.sql.functions import rank\n",
    "\n",
    "banksloans_counties = banks_loans_joined.join(counties, on = banks_loans_joined[\"county_code\"] == counties[\"code\"], how = \"inner\")\n",
    "\n",
    "window_spec = Window.partitionBy(\"NAME\").orderBy(desc(col(\"loan_amount\")))\n",
    "ranked_loans = banksloans_counties.withColumn(\"rank\", rank().over(window_spec))\n",
    "second_biggest_loans = ranked_loans.filter(col(\"rank\") == 2)\n",
    "max_loan_amounts = second_biggest_loans.groupBy(\"NAME\").max(\"loan_amount\")\n",
    "top_counties = max_loan_amounts.orderBy(desc(\"max(loan_amount)\")).limit(10)\n",
    "\n",
    "top_counties_pd = top_counties.toPandas()\n",
    "top_counties_pd[\"max(loan_amount)\"] = top_counties_pd[\"max(loan_amount)\"] / (1000**2)\n",
    "plt = top_counties_pd.set_index(\"NAME\").plot.bar(legend=None)\n",
    "plt.set_ylabel(\"2nd Biggest Loan Application (Millions $)\")"
   ]
  },
  {
   "cell_type": "markdown",
   "id": "ae2f8272-f912-4980-9831-916e291cbec9",
   "metadata": {},
   "source": [
    "# Part 4: Caching "
   ]
  },
  {
   "cell_type": "code",
   "execution_count": 17,
   "id": "caa3afd5-8ff5-4940-a1a2-c6ac41f865f8",
   "metadata": {
    "tags": []
   },
   "outputs": [
    {
     "name": "stderr",
     "output_type": "stream",
     "text": [
      "                                                                                \r"
     ]
    },
    {
     "data": {
      "image/png": "[encoded data removed]",
      "text/plain": [
       "<Figure size 640x480 with 1 Axes>"
      ]
     },
     "metadata": {},
     "output_type": "display_data"
    }
   ],
   "source": [
    "# Q9: what is the cost of caching and the impact on subsequent queries?\n",
    "import time\n",
    "import matplotlib.pyplot as plt\n",
    "\n",
    "cache_df = spark.sql(\"\"\"\n",
    "SELECT interest_rate\n",
    "FROM banks\n",
    "INNER JOIN loans\n",
    "ON banks.lei_2020 = loans.lei \n",
    "WHERE banks.respondent_name = 'Wells Fargo Bank, National Association'\n",
    "\"\"\")\n",
    "\n",
    "query_cache = {}\n",
    "\n",
    "for i in range(10):\n",
    "    start = time.time()\n",
    "    cache_df.count()\n",
    "    if i < 5:\n",
    "        end = time.time()\n",
    "        query_cache[i] = ((end - start) * 1000)\n",
    "        continue\n",
    "    if i == 5:\n",
    "        cache_df.cache()\n",
    "        end = time.time()\n",
    "        query_cache[i] = ((end - start) * 1000)\n",
    "        continue\n",
    "    else:\n",
    "        end = time.time()\n",
    "        query_cache[i] = ((end - start) * 1000)\n",
    "        continue\n",
    "        \n",
    "cache_df.unpersist()\n",
    "\n",
    "no_caching_queries = list(query_cache.keys())[:5]\n",
    "caching_queries = list(query_cache.keys())[5:]\n",
    "no_caching = list(query_cache.values())[:5]\n",
    "caching = list(query_cache.values())[5:]\n",
    "\n",
    "plt.plot(no_caching_queries, no_caching, label = \"No Caching\")\n",
    "plt.plot(caching_queries, caching, label = \"Caching\")\n",
    "plt.xlabel(\"Query Number\")\n",
    "plt.ylabel(\"Milliseconds\")\n",
    "plt.legend()\n",
    "plt.show()"
   ]
  },
  {
   "cell_type": "code",
   "execution_count": 19,
   "id": "2332d416-f59d-4258-af0f-95f1a02f6fa1",
   "metadata": {},
   "outputs": [
    {
     "name": "stderr",
     "output_type": "stream",
     "text": [
      "23/04/03 02:17:36 WARN CacheManager: Asked to cache already cached data.\n"
     ]
    },
    {
     "data": {
      "image/png": "[encoded data removed]",
      "text/plain": [
       "<Figure size 640x480 with 1 Axes>"
      ]
     },
     "metadata": {},
     "output_type": "display_data"
    }
   ],
   "source": [
    "# Q10: what is the impact of caching a single partition on load balance?\n",
    "import requests\n",
    "\n",
    "repartitioned = cache_df.repartition(1)\n",
    "repartitioned.cache()\n",
    "\n",
    "id_resp = requests.get(\"http://localhost:4040/api/v1/applications\")\n",
    "id_resp.raise_for_status()\n",
    "\n",
    "app_id = id_resp.json()[0][\"id\"]\n",
    "\n",
    "executor_1 = []\n",
    "executor_2 = [] \n",
    "\n",
    "for i in range(10):\n",
    "    repartitioned.count()\n",
    "    executors = requests.get(f\"http://localhost:4040/api/v1/applications/{app_id}/executors\")\n",
    "    executors.raise_for_status()\n",
    "    executor_1.append(executors.json()[1][\"completedTasks\"])\n",
    "    executor_2.append(executors.json()[2][\"completedTasks\"])\n",
    "    \n",
    "plt.plot(executor_1)\n",
    "plt.plot(executor_2)\n",
    "plt.xlabel(\"Query Number\")\n",
    "plt.ylabel(\"Task Count\")\n",
    "plt.show()"
   ]
  }
 ],
 "metadata": {
  "kernelspec": {
   "display_name": "Python 3",
   "language": "python",
   "name": "python3"
  },
  "language_info": {
   "codemirror_mode": {
    "name": "ipython",
    "version": 3
   },
   "file_extension": ".py",
   "mimetype": "text/x-python",
   "name": "python",
   "nbconvert_exporter": "python",
   "pygments_lexer": "ipython3",
   "version": "3.8.8"
  }
 },
 "nbformat": 4,
 "nbformat_minor": 5
}
