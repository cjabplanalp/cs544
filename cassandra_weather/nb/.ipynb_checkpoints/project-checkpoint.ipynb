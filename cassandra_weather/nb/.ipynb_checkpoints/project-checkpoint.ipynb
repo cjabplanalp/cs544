{
 "cells": [
  {
   "cell_type": "markdown",
   "id": "e74c11ba-df99-412f-b9db-69cd879ecd18",
   "metadata": {
    "tags": []
   },
   "source": [
    "# Part 1: Station Metadata"
   ]
  },
  {
   "cell_type": "code",
   "execution_count": 2,
   "id": "41179e9d-cfb1-4226-b80c-af6f89c13305",
   "metadata": {},
   "outputs": [],
   "source": [
    "from cassandra.cluster import Cluster\n",
    "try:\n",
    "    cluster = Cluster(['project-5-p5-cam-db-1', 'project-5-p5-cam-db-2', 'project-5-p5-cam-db-3'])\n",
    "    cass = cluster.connect()\n",
    "except Exception as e:\n",
    "    print(e)"
   ]
  },
  {
   "cell_type": "code",
   "execution_count": 3,
   "id": "ea046ae8-1647-4baa-ac1b-96f14509845c",
   "metadata": {},
   "outputs": [
    {
     "data": {
      "text/plain": [
       "<cassandra.cluster.ResultSet at 0x7fe8bf7084c0>"
      ]
     },
     "execution_count": 3,
     "metadata": {},
     "output_type": "execute_result"
    }
   ],
   "source": [
    "cass.execute(\"drop keyspace if exists weather\")"
   ]
  },
  {
   "cell_type": "code",
   "execution_count": 4,
   "id": "b2f30fb4-f976-4810-b94f-6935d4b4ee21",
   "metadata": {},
   "outputs": [
    {
     "data": {
      "text/plain": [
       "<cassandra.cluster.ResultSet at 0x7fe8bd52b820>"
      ]
     },
     "execution_count": 4,
     "metadata": {},
     "output_type": "execute_result"
    }
   ],
   "source": [
    "cass.execute(\"create keyspace weather with replication={'class':'SimpleStrategy', 'replication_factor':3}\")"
   ]
  },
  {
   "cell_type": "code",
   "execution_count": 5,
   "id": "066eb809-5892-48aa-8d33-89926069b869",
   "metadata": {},
   "outputs": [
    {
     "data": {
      "text/plain": [
       "<cassandra.cluster.ResultSet at 0x7fe8bd52a830>"
      ]
     },
     "execution_count": 5,
     "metadata": {},
     "output_type": "execute_result"
    }
   ],
   "source": [
    "cass.execute(\"use weather\")\n",
    "cass.execute(\"create type station_record (tmin int, tmax int)\")"
   ]
  },
  {
   "cell_type": "code",
   "execution_count": 6,
   "id": "c802547c-b458-45c4-8785-7db8cf631c73",
   "metadata": {},
   "outputs": [
    {
     "data": {
      "text/plain": [
       "<cassandra.cluster.ResultSet at 0x7fe8bd52ab60>"
      ]
     },
     "execution_count": 6,
     "metadata": {},
     "output_type": "execute_result"
    }
   ],
   "source": [
    "cass.execute(\"\"\"\n",
    "CREATE TABLE stations (\n",
    "    id text,\n",
    "    name text STATIC,\n",
    "    date date,\n",
    "    record weather.station_record,\n",
    "    PRIMARY KEY (id, date)\n",
    ")\n",
    "\"\"\")"
   ]
  },
  {
   "cell_type": "code",
   "execution_count": 7,
   "id": "b230f61b-a0ad-439e-bd63-479415029364",
   "metadata": {},
   "outputs": [
    {
     "name": "stdout",
     "output_type": "stream",
     "text": [
      "CREATE KEYSPACE weather WITH replication = {'class': 'SimpleStrategy', 'replication_factor': '3'}  AND durable_writes = true;\n",
      "CREATE TABLE weather.stations (\n",
      "    id text,\n",
      "    date date,\n",
      "    name text static,\n",
      "    record station_record,\n",
      "    PRIMARY KEY (id, date)\n",
      ") WITH CLUSTERING ORDER BY (date ASC)\n",
      "    AND additional_write_policy = '99p'\n",
      "    AND bloom_filter_fp_chance = 0.01\n",
      "    AND caching = {'keys': 'ALL', 'rows_per_partition': 'NONE'}\n",
      "    AND cdc = false\n",
      "    AND comment = ''\n",
      "    AND compaction = {'class': 'org.apache.cassandra.db.compaction.SizeTieredCompactionStrategy', 'max_threshold': '32', 'min_threshold': '4'}\n",
      "    AND compression = {'chunk_length_in_kb': '16', 'class': 'org.apache.cassandra.io.compress.LZ4Compressor'}\n",
      "    AND crc_check_chance = 1.0\n",
      "    AND default_time_to_live = 0\n",
      "    AND extensions = {}\n",
      "    AND gc_grace_seconds = 864000\n",
      "    AND max_index_interval = 2048\n",
      "    AND memtable_flush_period_in_ms = 0\n",
      "    AND min_index_interval = 128\n",
      "    AND read_repair = 'BLOCKING'\n",
      "    AND speculative_retry = '99p';\n"
     ]
    }
   ],
   "source": [
    "# Q1: what is the schema?\n",
    "print(cass.execute(\"describe keyspace weather\").one().create_statement)\n",
    "print(cass.execute(\"describe table weather.stations\").one().create_statement)"
   ]
  },
  {
   "cell_type": "code",
   "execution_count": 8,
   "id": "b84d3ab9-e6ba-43db-ad34-74d291d762f2",
   "metadata": {},
   "outputs": [
    {
     "name": "stdout",
     "output_type": "stream",
     "text": [
      ":: loading settings :: url = jar:file:/usr/local/lib/python3.10/dist-packages/pyspark/jars/ivy-2.5.0.jar!/org/apache/ivy/core/settings/ivysettings.xml\n"
     ]
    },
    {
     "name": "stderr",
     "output_type": "stream",
     "text": [
      "Ivy Default Cache set to: /root/.ivy2/cache\n",
      "The jars for the packages stored in: /root/.ivy2/jars\n",
      "com.datastax.spark#spark-cassandra-connector_2.12 added as a dependency\n",
      ":: resolving dependencies :: org.apache.spark#spark-submit-parent-db6cc152-fc99-496e-8ed8-78173fd8518e;1.0\n",
      "\tconfs: [default]\n",
      "\tfound com.datastax.spark#spark-cassandra-connector_2.12;3.2.0 in central\n",
      "\tfound com.datastax.spark#spark-cassandra-connector-driver_2.12;3.2.0 in central\n",
      "\tfound com.datastax.oss#java-driver-core-shaded;4.13.0 in central\n",
      "\tfound com.datastax.oss#native-protocol;1.5.0 in central\n",
      "\tfound com.datastax.oss#java-driver-shaded-guava;25.1-jre-graal-sub-1 in central\n",
      "\tfound com.typesafe#config;1.4.1 in central\n",
      "\tfound org.slf4j#slf4j-api;1.7.26 in central\n",
      "\tfound io.dropwizard.metrics#metrics-core;4.1.18 in central\n",
      "\tfound org.hdrhistogram#HdrHistogram;2.1.12 in central\n",
      "\tfound org.reactivestreams#reactive-streams;1.0.3 in central\n",
      "\tfound com.github.stephenc.jcip#jcip-annotations;1.0-1 in central\n",
      "\tfound com.github.spotbugs#spotbugs-annotations;3.1.12 in central\n",
      "\tfound com.google.code.findbugs#jsr305;3.0.2 in central\n",
      "\tfound com.datastax.oss#java-driver-mapper-runtime;4.13.0 in central\n",
      "\tfound com.datastax.oss#java-driver-query-builder;4.13.0 in central\n",
      "\tfound org.apache.commons#commons-lang3;3.10 in central\n",
      "\tfound com.thoughtworks.paranamer#paranamer;2.8 in central\n",
      "\tfound org.scala-lang#scala-reflect;2.12.11 in central\n",
      "downloading https://repo1.maven.org/maven2/com/datastax/spark/spark-cassandra-connector_2.12/3.2.0/spark-cassandra-connector_2.12-3.2.0.jar ...\n",
      "\t[SUCCESSFUL ] com.datastax.spark#spark-cassandra-connector_2.12;3.2.0!spark-cassandra-connector_2.12.jar (118ms)\n",
      "downloading https://repo1.maven.org/maven2/com/datastax/spark/spark-cassandra-connector-driver_2.12/3.2.0/spark-cassandra-connector-driver_2.12-3.2.0.jar ...\n",
      "\t[SUCCESSFUL ] com.datastax.spark#spark-cassandra-connector-driver_2.12;3.2.0!spark-cassandra-connector-driver_2.12.jar (71ms)\n",
      "downloading https://repo1.maven.org/maven2/com/datastax/oss/java-driver-core-shaded/4.13.0/java-driver-core-shaded-4.13.0.jar ...\n",
      "\t[SUCCESSFUL ] com.datastax.oss#java-driver-core-shaded;4.13.0!java-driver-core-shaded.jar (321ms)\n",
      "downloading https://repo1.maven.org/maven2/com/datastax/oss/java-driver-mapper-runtime/4.13.0/java-driver-mapper-runtime-4.13.0.jar ...\n",
      "\t[SUCCESSFUL ] com.datastax.oss#java-driver-mapper-runtime;4.13.0!java-driver-mapper-runtime.jar(bundle) (23ms)\n",
      "downloading https://repo1.maven.org/maven2/org/apache/commons/commons-lang3/3.10/commons-lang3-3.10.jar ...\n",
      "\t[SUCCESSFUL ] org.apache.commons#commons-lang3;3.10!commons-lang3.jar (56ms)\n",
      "downloading https://repo1.maven.org/maven2/com/thoughtworks/paranamer/paranamer/2.8/paranamer-2.8.jar ...\n",
      "\t[SUCCESSFUL ] com.thoughtworks.paranamer#paranamer;2.8!paranamer.jar(bundle) (15ms)\n",
      "downloading https://repo1.maven.org/maven2/org/scala-lang/scala-reflect/2.12.11/scala-reflect-2.12.11.jar ...\n",
      "\t[SUCCESSFUL ] org.scala-lang#scala-reflect;2.12.11!scala-reflect.jar (136ms)\n",
      "downloading https://repo1.maven.org/maven2/com/datastax/oss/native-protocol/1.5.0/native-protocol-1.5.0.jar ...\n",
      "\t[SUCCESSFUL ] com.datastax.oss#native-protocol;1.5.0!native-protocol.jar(bundle) (24ms)\n",
      "downloading https://repo1.maven.org/maven2/com/datastax/oss/java-driver-shaded-guava/25.1-jre-graal-sub-1/java-driver-shaded-guava-25.1-jre-graal-sub-1.jar ...\n",
      "\t[SUCCESSFUL ] com.datastax.oss#java-driver-shaded-guava;25.1-jre-graal-sub-1!java-driver-shaded-guava.jar (59ms)\n",
      "downloading https://repo1.maven.org/maven2/com/typesafe/config/1.4.1/config-1.4.1.jar ...\n",
      "\t[SUCCESSFUL ] com.typesafe#config;1.4.1!config.jar(bundle) (19ms)\n",
      "downloading https://repo1.maven.org/maven2/org/slf4j/slf4j-api/1.7.26/slf4j-api-1.7.26.jar ...\n",
      "\t[SUCCESSFUL ] org.slf4j#slf4j-api;1.7.26!slf4j-api.jar (14ms)\n",
      "downloading https://repo1.maven.org/maven2/io/dropwizard/metrics/metrics-core/4.1.18/metrics-core-4.1.18.jar ...\n",
      "\t[SUCCESSFUL ] io.dropwizard.metrics#metrics-core;4.1.18!metrics-core.jar(bundle) (15ms)\n",
      "downloading https://repo1.maven.org/maven2/org/hdrhistogram/HdrHistogram/2.1.12/HdrHistogram-2.1.12.jar ...\n",
      "\t[SUCCESSFUL ] org.hdrhistogram#HdrHistogram;2.1.12!HdrHistogram.jar(bundle) (16ms)\n",
      "downloading https://repo1.maven.org/maven2/org/reactivestreams/reactive-streams/1.0.3/reactive-streams-1.0.3.jar ...\n",
      "\t[SUCCESSFUL ] org.reactivestreams#reactive-streams;1.0.3!reactive-streams.jar (14ms)\n",
      "downloading https://repo1.maven.org/maven2/com/github/stephenc/jcip/jcip-annotations/1.0-1/jcip-annotations-1.0-1.jar ...\n",
      "\t[SUCCESSFUL ] com.github.stephenc.jcip#jcip-annotations;1.0-1!jcip-annotations.jar (14ms)\n",
      "downloading https://repo1.maven.org/maven2/com/github/spotbugs/spotbugs-annotations/3.1.12/spotbugs-annotations-3.1.12.jar ...\n",
      "\t[SUCCESSFUL ] com.github.spotbugs#spotbugs-annotations;3.1.12!spotbugs-annotations.jar (19ms)\n",
      "downloading https://repo1.maven.org/maven2/com/google/code/findbugs/jsr305/3.0.2/jsr305-3.0.2.jar ...\n",
      "\t[SUCCESSFUL ] com.google.code.findbugs#jsr305;3.0.2!jsr305.jar (15ms)\n",
      "downloading https://repo1.maven.org/maven2/com/datastax/oss/java-driver-query-builder/4.13.0/java-driver-query-builder-4.13.0.jar ...\n",
      "\t[SUCCESSFUL ] com.datastax.oss#java-driver-query-builder;4.13.0!java-driver-query-builder.jar(bundle) (19ms)\n",
      ":: resolution report :: resolve 7016ms :: artifacts dl 1001ms\n",
      "\t:: modules in use:\n",
      "\tcom.datastax.oss#java-driver-core-shaded;4.13.0 from central in [default]\n",
      "\tcom.datastax.oss#java-driver-mapper-runtime;4.13.0 from central in [default]\n",
      "\tcom.datastax.oss#java-driver-query-builder;4.13.0 from central in [default]\n",
      "\tcom.datastax.oss#java-driver-shaded-guava;25.1-jre-graal-sub-1 from central in [default]\n",
      "\tcom.datastax.oss#native-protocol;1.5.0 from central in [default]\n",
      "\tcom.datastax.spark#spark-cassandra-connector-driver_2.12;3.2.0 from central in [default]\n",
      "\tcom.datastax.spark#spark-cassandra-connector_2.12;3.2.0 from central in [default]\n",
      "\tcom.github.spotbugs#spotbugs-annotations;3.1.12 from central in [default]\n",
      "\tcom.github.stephenc.jcip#jcip-annotations;1.0-1 from central in [default]\n",
      "\tcom.google.code.findbugs#jsr305;3.0.2 from central in [default]\n",
      "\tcom.thoughtworks.paranamer#paranamer;2.8 from central in [default]\n",
      "\tcom.typesafe#config;1.4.1 from central in [default]\n",
      "\tio.dropwizard.metrics#metrics-core;4.1.18 from central in [default]\n",
      "\torg.apache.commons#commons-lang3;3.10 from central in [default]\n",
      "\torg.hdrhistogram#HdrHistogram;2.1.12 from central in [default]\n",
      "\torg.reactivestreams#reactive-streams;1.0.3 from central in [default]\n",
      "\torg.scala-lang#scala-reflect;2.12.11 from central in [default]\n",
      "\torg.slf4j#slf4j-api;1.7.26 from central in [default]\n",
      "\t---------------------------------------------------------------------\n",
      "\t|                  |            modules            ||   artifacts   |\n",
      "\t|       conf       | number| search|dwnlded|evicted|| number|dwnlded|\n",
      "\t---------------------------------------------------------------------\n",
      "\t|      default     |   18  |   18  |   18  |   0   ||   18  |   18  |\n",
      "\t---------------------------------------------------------------------\n",
      ":: retrieving :: org.apache.spark#spark-submit-parent-db6cc152-fc99-496e-8ed8-78173fd8518e\n",
      "\tconfs: [default]\n",
      "\t18 artifacts copied, 0 already retrieved (18065kB/105ms)\n",
      "23/04/13 20:57:41 WARN NativeCodeLoader: Unable to load native-hadoop library for your platform... using builtin-java classes where applicable\n",
      "Using Spark's default log4j profile: org/apache/spark/log4j-defaults.properties\n",
      "Setting default log level to \"WARN\".\n",
      "To adjust logging level use sc.setLogLevel(newLevel). For SparkR, use setLogLevel(newLevel).\n"
     ]
    }
   ],
   "source": [
    "from pyspark.sql import SparkSession\n",
    "spark = (SparkSession.builder\n",
    "         .appName(\"p5\")\n",
    "         .config('spark.jars.packages', 'com.datastax.spark:spark-cassandra-connector_2.12:3.2.0')\n",
    "         .config(\"spark.sql.extensions\", \"com.datastax.spark.connector.CassandraSparkExtensions\")\n",
    "         .getOrCreate())"
   ]
  },
  {
   "cell_type": "code",
   "execution_count": 9,
   "id": "16851664-8fef-4208-baf8-bbc4d2329962",
   "metadata": {},
   "outputs": [
    {
     "name": "stdout",
     "output_type": "stream",
     "text": [
      "--2023-04-13 20:57:48--  https://pages.cs.wisc.edu/~harter/cs639/data/ghcnd-stations.txt\n",
      "Resolving pages.cs.wisc.edu (pages.cs.wisc.edu)... 128.105.7.9\n",
      "Connecting to pages.cs.wisc.edu (pages.cs.wisc.edu)|128.105.7.9|:443... connected.\n",
      "HTTP request sent, awaiting response... 200 OK\n",
      "Length: 10607756 (10M) [text/plain]\n",
      "Saving to: ‘ghcnd-stations.txt’\n",
      "\n",
      "ghcnd-stations.txt  100%[===================>]  10.12M  37.5MB/s    in 0.3s    \n",
      "\n",
      "2023-04-13 20:57:49 (37.5 MB/s) - ‘ghcnd-stations.txt’ saved [10607756/10607756]\n",
      "\n"
     ]
    },
    {
     "name": "stderr",
     "output_type": "stream",
     "text": [
      "                                                                                \r"
     ]
    }
   ],
   "source": [
    "import os\n",
    "if \"ghcnd-stations.txt\" in os.listdir():\n",
    "    ! rm ghcnd-stations.txt\n",
    "\n",
    "! wget https://pages.cs.wisc.edu/~harter/cs639/data/ghcnd-stations.txt\n",
    "\n",
    "from pyspark.sql.functions import expr, col\n",
    "stations_txt = (spark.read.text(\"ghcnd-stations.txt\")\n",
    "                .withColumn(\"id\", expr(\"substring(value, 0, 11)\"))\n",
    "                .withColumn(\"state\", expr(\"substring(value, 39, 2)\"))\n",
    "                .withColumn(\"name\", expr(\"substring(value, 42, 30)\"))\n",
    "                .filter(col(\"state\") == \"WI\")\n",
    "                .select(col(\"id\"), col(\"state\"), col(\"name\"))\n",
    "                ).collect()"
   ]
  },
  {
   "cell_type": "code",
   "execution_count": 10,
   "id": "9b6e30e8-1b05-417b-ae93-560c6824605e",
   "metadata": {},
   "outputs": [],
   "source": [
    "import pandas as pd\n",
    "def show_df():\n",
    "    return pd.DataFrame(cass.execute(\"select * from stations\"))"
   ]
  },
  {
   "cell_type": "code",
   "execution_count": 11,
   "id": "ad72a531-2756-4a89-828a-583da0c17679",
   "metadata": {},
   "outputs": [],
   "source": [
    "query = cass.prepare(\"insert into weather.stations (id, name) VALUES (?,?)\")\n",
    "for row in stations_txt:\n",
    "    cass.execute(query, [row.id, row.name])"
   ]
  },
  {
   "cell_type": "code",
   "execution_count": 12,
   "id": "392f67e4-e231-480f-bdf2-4e9f1c0e44f4",
   "metadata": {},
   "outputs": [
    {
     "data": {
      "text/html": [
       "<div>\n",
       "<style scoped>\n",
       "    .dataframe tbody tr th:only-of-type {\n",
       "        vertical-align: middle;\n",
       "    }\n",
       "\n",
       "    .dataframe tbody tr th {\n",
       "        vertical-align: top;\n",
       "    }\n",
       "\n",
       "    .dataframe thead th {\n",
       "        text-align: right;\n",
       "    }\n",
       "</style>\n",
       "<table border=\"1\" class=\"dataframe\">\n",
       "  <thead>\n",
       "    <tr style=\"text-align: right;\">\n",
       "      <th></th>\n",
       "      <th>id</th>\n",
       "      <th>date</th>\n",
       "      <th>name</th>\n",
       "      <th>record</th>\n",
       "    </tr>\n",
       "  </thead>\n",
       "  <tbody>\n",
       "    <tr>\n",
       "      <th>0</th>\n",
       "      <td>USC00479053</td>\n",
       "      <td>None</td>\n",
       "      <td>W BEND FIRE STN #2</td>\n",
       "      <td>None</td>\n",
       "    </tr>\n",
       "    <tr>\n",
       "      <th>1</th>\n",
       "      <td>USC00476398</td>\n",
       "      <td>None</td>\n",
       "      <td>PARK FALLS DNR HQ</td>\n",
       "      <td>None</td>\n",
       "    </tr>\n",
       "    <tr>\n",
       "      <th>2</th>\n",
       "      <td>USC00470268</td>\n",
       "      <td>None</td>\n",
       "      <td>APPOLONIA</td>\n",
       "      <td>None</td>\n",
       "    </tr>\n",
       "    <tr>\n",
       "      <th>3</th>\n",
       "      <td>USC00474110</td>\n",
       "      <td>None</td>\n",
       "      <td>JUNEAU</td>\n",
       "      <td>None</td>\n",
       "    </tr>\n",
       "    <tr>\n",
       "      <th>4</th>\n",
       "      <td>USC00475525</td>\n",
       "      <td>None</td>\n",
       "      <td>MINONG 5 WSW</td>\n",
       "      <td>None</td>\n",
       "    </tr>\n",
       "    <tr>\n",
       "      <th>...</th>\n",
       "      <td>...</td>\n",
       "      <td>...</td>\n",
       "      <td>...</td>\n",
       "      <td>...</td>\n",
       "    </tr>\n",
       "    <tr>\n",
       "      <th>1308</th>\n",
       "      <td>USC00479050</td>\n",
       "      <td>None</td>\n",
       "      <td>WEST BEND</td>\n",
       "      <td>None</td>\n",
       "    </tr>\n",
       "    <tr>\n",
       "      <th>1309</th>\n",
       "      <td>US1WIPC0004</td>\n",
       "      <td>None</td>\n",
       "      <td>RIVER FALLS 3.0 SE</td>\n",
       "      <td>None</td>\n",
       "    </tr>\n",
       "    <tr>\n",
       "      <th>1310</th>\n",
       "      <td>US1WIWK0016</td>\n",
       "      <td>None</td>\n",
       "      <td>MUSKEGO 1.0 W</td>\n",
       "      <td>None</td>\n",
       "    </tr>\n",
       "    <tr>\n",
       "      <th>1311</th>\n",
       "      <td>US1WIWK0086</td>\n",
       "      <td>None</td>\n",
       "      <td>WALES 0.4 NW</td>\n",
       "      <td>None</td>\n",
       "    </tr>\n",
       "    <tr>\n",
       "      <th>1312</th>\n",
       "      <td>USC00475471</td>\n",
       "      <td>None</td>\n",
       "      <td>MIDDLETON</td>\n",
       "      <td>None</td>\n",
       "    </tr>\n",
       "  </tbody>\n",
       "</table>\n",
       "<p>1313 rows × 4 columns</p>\n",
       "</div>"
      ],
      "text/plain": [
       "               id  date                            name record\n",
       "0     USC00479053  None  W BEND FIRE STN #2               None\n",
       "1     USC00476398  None  PARK FALLS DNR HQ                None\n",
       "2     USC00470268  None  APPOLONIA                        None\n",
       "3     USC00474110  None  JUNEAU                           None\n",
       "4     USC00475525  None  MINONG 5 WSW                     None\n",
       "...           ...   ...                             ...    ...\n",
       "1308  USC00479050  None  WEST BEND                        None\n",
       "1309  US1WIPC0004  None  RIVER FALLS 3.0 SE               None\n",
       "1310  US1WIWK0016  None  MUSKEGO 1.0 W                    None\n",
       "1311  US1WIWK0086  None  WALES 0.4 NW                     None\n",
       "1312  USC00475471  None  MIDDLETON                        None\n",
       "\n",
       "[1313 rows x 4 columns]"
      ]
     },
     "execution_count": 12,
     "metadata": {},
     "output_type": "execute_result"
    }
   ],
   "source": [
    "show_df()"
   ]
  },
  {
   "cell_type": "code",
   "execution_count": 13,
   "id": "0e601bcb-fcd0-4b77-816a-5d6b7e864be5",
   "metadata": {},
   "outputs": [
    {
     "name": "stdout",
     "output_type": "stream",
     "text": [
      "row token: -9014250178872933741\n",
      "vnode token: -8616859006142684266\n"
     ]
    }
   ],
   "source": [
    "# Q2: what is the token of the vnode that comes first after the partition for the USC00470273 sensor?\n",
    "import subprocess\n",
    "\n",
    "output = subprocess.check_output([\"nodetool\", \"ring\"])\n",
    "\n",
    "row_token = str(list(cass.execute(\"\"\"\n",
    "SELECT token('USC00470273')\n",
    "FROM weather.stations\n",
    "\"\"\"))[0])[30:50]\n",
    "\n",
    "vnode_token = \"\"\n",
    "for line in output.decode().split('\\n')[5:]:\n",
    "    if line[80:].strip().isdigit() or (line[80] == \"-\" and line[81:].strip().isdigit()):\n",
    "        vnode_token = line[80:].strip()\n",
    "        if int(vnode_token) >= int(row_token):\n",
    "            vnode_token = line[80:].strip()\n",
    "            break\n",
    "print(\"row token: \" + row_token)\n",
    "print(\"vnode token: \" + vnode_token)"
   ]
  },
  {
   "cell_type": "markdown",
   "id": "073bf5cb-8f47-441f-b194-f714f85170ec",
   "metadata": {},
   "source": [
    "# Part 2: Temperature Data"
   ]
  },
  {
   "cell_type": "code",
   "execution_count": 14,
   "id": "b5d2c681-b234-4873-a901-332e200aa888",
   "metadata": {},
   "outputs": [],
   "source": [
    "if \"station_pb2_grpc.py\" and \"station_pb2.py\" in os.listdir():\n",
    "    ! rm station_pb2_grpc.py\n",
    "    ! rm station_pb2.py\n",
    "! python3 -m grpc_tools.protoc -I=. --python_out=. --grpc_python_out=. station.proto"
   ]
  },
  {
   "cell_type": "code",
   "execution_count": 15,
   "id": "cc36c470-5680-429a-817e-16a51adf9bbc",
   "metadata": {},
   "outputs": [
    {
     "name": "stdout",
     "output_type": "stream",
     "text": [
      "--2023-04-13 20:58:15--  https://pages.cs.wisc.edu/~harter/cs639/data/wi-stations.zip\n",
      "Resolving pages.cs.wisc.edu (pages.cs.wisc.edu)... 128.105.7.9\n",
      "Connecting to pages.cs.wisc.edu (pages.cs.wisc.edu)|128.105.7.9|:443... connected.\n",
      "HTTP request sent, awaiting response... 200 OK\n",
      "Length: 133113222 (127M) [application/zip]\n",
      "Saving to: ‘wi-stations.zip’\n",
      "\n",
      "wi-stations.zip     100%[===================>] 126.95M  76.4MB/s    in 1.7s    \n",
      "\n",
      "2023-04-13 20:58:16 (76.4 MB/s) - ‘wi-stations.zip’ saved [133113222/133113222]\n",
      "\n",
      "extracting USC00477115.csv.gz\n",
      "extracting USR0000WDDG.csv.gz\n",
      "extracting USW00014837.csv.gz\n",
      "extracting USW00014839.csv.gz\n",
      "extracting USW00014898.csv.gz\n"
     ]
    }
   ],
   "source": [
    "import zipfile\n",
    "! wget https://pages.cs.wisc.edu/~harter/cs639/data/wi-stations.zip\n",
    "\n",
    "with zipfile.ZipFile(\"wi-stations.zip\", \"r\") as read_zip:\n",
    "    for file_name in read_zip.namelist():\n",
    "        if file_name.split(\".\")[0] in [\"USW00014837\", \"USR0000WDDG\", \"USW00014898\", \"USW00014839\", \"USC00477115\"]:\n",
    "            read_zip.extract(file_name)\n",
    "            print(f\"extracting {file_name}\")\n",
    "! rm wi-stations.zip"
   ]
  },
  {
   "cell_type": "code",
   "execution_count": 16,
   "id": "65e26b44-2679-4a35-a76c-7f2f2e1b4411",
   "metadata": {},
   "outputs": [
    {
     "name": "stdout",
     "output_type": "stream",
     "text": [
      "max temp for USW00014837 is 356\n",
      "max temp for USR0000WDDG is 344\n",
      "max temp for USW00014898 is 356\n",
      "max temp for USW00014839 is 378\n"
     ]
    }
   ],
   "source": [
    "import station_pb2_grpc, station_pb2, grpc\n",
    "channel = grpc.insecure_channel(\"project-5-p5-cam-db-2:5440\")\n",
    "stub = station_pb2_grpc.StationStub(channel)\n",
    "\n",
    "def simulate_sensor(station):\n",
    "    # TODO: loop over tmin/tmax data for every day of 2022 for the given station;\n",
    "    # send each to server with RecordTemps call\n",
    "    df = pd.read_csv(f\"{station}.csv.gz\", header = None, low_memory = False)\n",
    "    df_2022 = df[df[1].astype(\"str\").str.startswith(\"2022\")]\n",
    "\n",
    "    tmin = df_2022.loc[df_2022[2] == \"TMIN\"][[0,1,2,3]]\n",
    "    tmax = df_2022.loc[df_2022[2] == \"TMAX\"][[0,1,2,3]]\n",
    "\n",
    "    final = (tmin.merge(tmax, on = 1, how = \"inner\")\n",
    "             .drop(columns = [\"0_y\"])\n",
    "             .rename(columns={\"0_x\":\"id\", 1:\"date\", \"2_x\":\"tmin\", \"3_x\":\"tmin_temp\", \"2_y\":\"tmax\", \"3_y\":\"tmax_temp\"}))\n",
    "\n",
    "    for row in final.itertuples():\n",
    "        stub.RecordTemps(station_pb2.RecordTempsRequest(station = row.id, \n",
    "                                                        date = str(row.date), \n",
    "                                                        tmin = row.tmin_temp, \n",
    "                                                        tmax = row.tmax_temp))\n",
    "\n",
    "for station in [\"USW00014837\", \"USR0000WDDG\", \"USW00014898\", \"USW00014839\"]:\n",
    "    simulate_sensor(station)\n",
    "    r = stub.StationMax(station_pb2.StationMaxRequest(station=station))\n",
    "    if r.error:\n",
    "        print(r.error)\n",
    "    else:\n",
    "        print(f\"max temp for {station} is {r.tmax}\")"
   ]
  },
  {
   "cell_type": "code",
   "execution_count": 17,
   "id": "5c9b2405-93e5-4d9a-919a-6f0dcb0f654b",
   "metadata": {},
   "outputs": [],
   "source": [
    "def show_table(station):\n",
    "    query = cass.prepare(\"\"\"\n",
    "        SELECT * \n",
    "        FROM weather.stations \n",
    "        WHERE id = ?\n",
    "        \"\"\")\n",
    "    return pd.DataFrame(cass.execute(query, [station]))"
   ]
  },
  {
   "cell_type": "markdown",
   "id": "8acc56a4-1c5a-4750-8dc5-e995ca86c417",
   "metadata": {},
   "source": [
    "# Part 3: Spark Analysis"
   ]
  },
  {
   "cell_type": "code",
   "execution_count": 18,
   "id": "f2dbe464-067a-49f8-8af2-695fbe299431",
   "metadata": {},
   "outputs": [],
   "source": [
    "spark.conf.set(\"spark.sql.catalog.cassandra\", \"com.datastax.spark.connector.datasource.CassandraCatalog\")\n",
    "spark.conf.set(\"spark.sql.catalog.cassandra.spark.cassandra.connection.host\", \"project-5-p5-cam-db-3:9042\")"
   ]
  },
  {
   "cell_type": "code",
   "execution_count": 19,
   "id": "830aaaee-aa5e-4e02-a20f-5ac0eb2164da",
   "metadata": {},
   "outputs": [],
   "source": [
    "spark.sql(\"\"\"\n",
    "SELECT *\n",
    "FROM cassandra.weather.stations\n",
    "WHERE date LIKE '2022-%'\n",
    "\"\"\").createOrReplaceTempView(\"weather2022\")"
   ]
  },
  {
   "cell_type": "code",
   "execution_count": 20,
   "id": "93b30f6f-e40c-491d-a86d-998c4424ec0f",
   "metadata": {},
   "outputs": [
    {
     "name": "stdout",
     "output_type": "stream",
     "text": [
      "+---------+-----------+-----------+\n",
      "|namespace|  tableName|isTemporary|\n",
      "+---------+-----------+-----------+\n",
      "|         |weather2022|       true|\n",
      "+---------+-----------+-----------+\n",
      "\n"
     ]
    }
   ],
   "source": [
    "spark.sql(\"show tables\").show()"
   ]
  },
  {
   "cell_type": "code",
   "execution_count": 21,
   "id": "ab83d570-0df4-48e1-9540-0335eb408458",
   "metadata": {},
   "outputs": [
    {
     "data": {
      "text/plain": [
       "DataFrame[id: string, date: date, record: struct<tmin:int,tmax:int>, name: string]"
      ]
     },
     "execution_count": 21,
     "metadata": {},
     "output_type": "execute_result"
    }
   ],
   "source": [
    "spark.table(\"weather2022\").cache()"
   ]
  },
  {
   "cell_type": "code",
   "execution_count": 22,
   "id": "9672f31a-5d01-4d48-9b9e-a8df7aa2f588",
   "metadata": {},
   "outputs": [],
   "source": [
    "from pyspark.sql.functions import udf\n",
    "from pyspark.sql.types import DoubleType\n",
    "\n",
    "def farenheit_converter(temp):\n",
    "    fahrenheit = (temp / 10.0) * 1.8 + 32.0\n",
    "    return fahrenheit#round(fahrenheit, 2)\n",
    "farenheit_converter_udf = udf(farenheit_converter, DoubleType())"
   ]
  },
  {
   "cell_type": "code",
   "execution_count": 23,
   "id": "ecb2021b-a289-45c5-8e65-05dac93ccf9f",
   "metadata": {},
   "outputs": [
    {
     "name": "stderr",
     "output_type": "stream",
     "text": [
      "                                                                                \r"
     ]
    },
    {
     "data": {
      "text/plain": [
       "Text(0, 0.5, 'Daily Temp (Fahrenheit)')"
      ]
     },
     "execution_count": 23,
     "metadata": {},
     "output_type": "execute_result"
    },
    {
     "data": {
      "image/png": "[encoded data removed]",
      "text/plain": [
       "<Figure size 640x480 with 1 Axes>"
      ]
     },
     "metadata": {},
     "output_type": "display_data"
    }
   ],
   "source": [
    "# Q3: what were the daily highs and lows at Madison's airport in 2022?\n",
    "from pyspark.sql.functions import lower, col, expr, asc, desc, count, mean, concat_ws, when\n",
    "\n",
    "madison_airport = (spark.table(\"weather2022\")\n",
    "                   .filter(col(\"id\") == \"USW00014837\")\n",
    "                   .withColumn(\"tmin\", col(\"record\").getItem(\"tmin\"))\n",
    "                   .withColumn(\"tmax\", col(\"record\").getItem(\"tmax\"))\n",
    "                   .withColumn(\"tmin\", farenheit_converter_udf(col(\"tmin\")))\n",
    "                   .withColumn(\"tmax\", farenheit_converter_udf(col(\"tmax\")))\n",
    "                   .select(col(\"date\"), col(\"tmin\"), col(\"tmax\"))\n",
    "                  ).toPandas()\n",
    "\n",
    "ax = madison_airport.set_index(\"date\").plot.line()\n",
    "ax.set_ylabel(\"Daily Temp (Fahrenheit)\")"
   ]
  },
  {
   "cell_type": "code",
   "execution_count": 24,
   "id": "5c782bf1-c42d-4175-a385-7eeee1131c3d",
   "metadata": {},
   "outputs": [
    {
     "name": "stderr",
     "output_type": "stream",
     "text": [
      "                                                                                \r"
     ]
    },
    {
     "data": {
      "text/plain": [
       "[Row(corr=0.9786907979650676)]"
      ]
     },
     "execution_count": 24,
     "metadata": {},
     "output_type": "execute_result"
    }
   ],
   "source": [
    "# Q4: what is the correlation between maximum temperatures in Madison and Milwaukee?\n",
    "from pyspark.sql.functions import corr\n",
    "\n",
    "madison = \"USW00014837\"\n",
    "milwaukee = \"USW00014839\"\n",
    "\n",
    "madison_max = (spark.table(\"weather2022\")\n",
    " .filter(col(\"id\") == madison)\n",
    " .withColumn(\"tmax\", col(\"record\").getItem(\"tmax\"))\n",
    " .withColumn(\"madison\", farenheit_converter_udf(col(\"tmax\")))\n",
    " .select(col(\"date\"), col(\"madison\"))\n",
    ")\n",
    "\n",
    "mke_max = (spark.table(\"weather2022\")\n",
    " .filter(col(\"id\") == milwaukee)\n",
    " .withColumn(\"tmax\", col(\"record\").getItem(\"tmax\"))\n",
    " .withColumn(\"mke\", farenheit_converter_udf(col(\"tmax\")))\n",
    " .select(col(\"date\"), col(\"mke\"))\n",
    ")\n",
    "\n",
    "madison_max.join(mke_max, 'date').agg(corr(\"madison\", \"mke\").alias(\"corr\")).collect()"
   ]
  },
  {
   "cell_type": "markdown",
   "id": "9afe76e0-0c87-4499-88f7-703465ea1e0e",
   "metadata": {},
   "source": [
    "# Part 4: Disaster Strikes"
   ]
  },
  {
   "cell_type": "code",
   "execution_count": 28,
   "id": "891b2441-3abc-4478-b2ad-d1e3fbf4eca8",
   "metadata": {},
   "outputs": [
    {
     "name": "stderr",
     "output_type": "stream",
     "text": [
      "23/04/13 20:59:58 WARN ChannelPool: [s0|/172.19.0.3:9042]  Error while opening new channel (ConnectionInitException: [s0|connecting...] Protocol initialization request, step 1 (STARTUP {CQL_VERSION=3.0.0, DRIVER_NAME=DataStax Java driver for Apache Cassandra(R), DRIVER_VERSION=4.13.0, CLIENT_ID=d56c8b7b-8f17-48b6-8f50-aa09b6b63251, APPLICATION_NAME=Spark-Cassandra-Connector-local-1681419464446}): failed to send request (java.nio.channels.NotYetConnectedException))\n"
     ]
    },
    {
     "data": {
      "text/plain": [
       "error: \"An unknown error occurred in StationMax.\""
      ]
     },
     "execution_count": 28,
     "metadata": {},
     "output_type": "execute_result"
    }
   ],
   "source": [
    "# Q5: does StationMax still work?\n",
    "stub.StationMax(station_pb2.StationMaxRequest(station=\"USW00014837\"))"
   ]
  },
  {
   "cell_type": "code",
   "execution_count": 29,
   "id": "09769db1-6148-49d6-921c-2191e32c1087",
   "metadata": {},
   "outputs": [
    {
     "name": "stderr",
     "output_type": "stream",
     "text": [
      "WARNING:cassandra.pool:Error attempting to reconnect to 172.19.0.3:9042, scheduling retry in 1.98 seconds: [Errno None] Tried connecting to [('172.19.0.3', 9042)]. Last error: timed out\n",
      "WARNING:cassandra.pool:Error attempting to reconnect to 172.19.0.3:9042, scheduling retry in 3.52 seconds: [Errno None] Tried connecting to [('172.19.0.3', 9042)]. Last error: timed out\n",
      "23/04/13 21:00:08 WARN ChannelPool: [s0|/172.19.0.3:9042]  Error while opening new channel (ConnectionInitException: [s0|connecting...] Protocol initialization request, step 1 (STARTUP {CQL_VERSION=3.0.0, DRIVER_NAME=DataStax Java driver for Apache Cassandra(R), DRIVER_VERSION=4.13.0, CLIENT_ID=d56c8b7b-8f17-48b6-8f50-aa09b6b63251, APPLICATION_NAME=Spark-Cassandra-Connector-local-1681419464446}): failed to send request (java.nio.channels.NotYetConnectedException))\n"
     ]
    }
   ],
   "source": [
    "# Q6: does simulate_sensor still work?\n",
    "simulate_sensor(\"USC00477115\")"
   ]
  },
  {
   "cell_type": "code",
   "execution_count": 31,
   "id": "d2e0915d-d144-4f0b-a331-aae2e38a364a",
   "metadata": {},
   "outputs": [
    {
     "name": "stdout",
     "output_type": "stream",
     "text": [
      "BEFORE REFRESH: 1460\n"
     ]
    },
    {
     "name": "stderr",
     "output_type": "stream",
     "text": [
      "23/04/13 21:00:20 WARN ChannelPool: [s0|/172.19.0.3:9042]  Error while opening new channel (ConnectionInitException: [s0|connecting...] Protocol initialization request, step 1 (STARTUP {CQL_VERSION=3.0.0, DRIVER_NAME=DataStax Java driver for Apache Cassandra(R), DRIVER_VERSION=4.13.0, CLIENT_ID=d56c8b7b-8f17-48b6-8f50-aa09b6b63251, APPLICATION_NAME=Spark-Cassandra-Connector-local-1681419464446}): failed to send request (java.nio.channels.NotYetConnectedException))\n",
      "[Stage 10:=============================>                            (3 + 2) / 6]\r"
     ]
    },
    {
     "name": "stdout",
     "output_type": "stream",
     "text": [
      "AFTER REFRESH: 1825\n"
     ]
    },
    {
     "name": "stderr",
     "output_type": "stream",
     "text": [
      "WARNING:cassandra.pool:Error attempting to reconnect to 172.19.0.3:9042, scheduling retry in 17.76 seconds: [Errno None] Tried connecting to [('172.19.0.3', 9042)]. Last error: timed out\n"
     ]
    }
   ],
   "source": [
    "# Q7: how does refreshing the stale cache change the number of rows in weather2022?\n",
    "print(\"BEFORE REFRESH:\", spark.table(\"weather2022\").count())\n",
    "spark.sql(\"refresh table weather2022\")\n",
    "print(\"AFTER REFRESH:\", spark.table(\"weather2022\").count())"
   ]
  }
 ],
 "metadata": {
  "kernelspec": {
   "display_name": "Python 3",
   "language": "python",
   "name": "python3"
  },
  "language_info": {
   "codemirror_mode": {
    "name": "ipython",
    "version": 3
   },
   "file_extension": ".py",
   "mimetype": "text/x-python",
   "name": "python",
   "nbconvert_exporter": "python",
   "pygments_lexer": "ipython3",
   "version": "3.8.8"
  }
 },
 "nbformat": 4,
 "nbformat_minor": 5
}
